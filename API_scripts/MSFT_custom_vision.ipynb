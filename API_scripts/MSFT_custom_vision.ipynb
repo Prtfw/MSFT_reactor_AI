{
 "cells": [
  {
   "cell_type": "code",
   "execution_count": 1,
   "metadata": {},
   "outputs": [
    {
     "name": "stdout",
     "output_type": "stream",
     "text": [
      "Requirement already satisfied: azure-cognitiveservices-vision-customvision in /Users/mshang/Desktop/dev_env/openMined/PySyft/venv/lib/python3.7/site-packages (3.0.0)\n",
      "Requirement already satisfied: msrest>=0.5.0 in /Users/mshang/Desktop/dev_env/openMined/PySyft/venv/lib/python3.7/site-packages (from azure-cognitiveservices-vision-customvision) (0.6.17)\n",
      "Requirement already satisfied: azure-common~=1.1 in /Users/mshang/Desktop/dev_env/openMined/PySyft/venv/lib/python3.7/site-packages (from azure-cognitiveservices-vision-customvision) (1.1.25)\n",
      "Requirement already satisfied: isodate>=0.6.0 in /Users/mshang/Desktop/dev_env/openMined/PySyft/venv/lib/python3.7/site-packages (from msrest>=0.5.0->azure-cognitiveservices-vision-customvision) (0.6.0)\n",
      "Requirement already satisfied: requests~=2.16 in /Users/mshang/Desktop/dev_env/openMined/PySyft/venv/lib/python3.7/site-packages (from msrest>=0.5.0->azure-cognitiveservices-vision-customvision) (2.22.0)\n",
      "Requirement already satisfied: requests-oauthlib>=0.5.0 in /Users/mshang/Desktop/dev_env/openMined/PySyft/venv/lib/python3.7/site-packages (from msrest>=0.5.0->azure-cognitiveservices-vision-customvision) (1.3.0)\n",
      "Requirement already satisfied: certifi>=2017.4.17 in /Users/mshang/Desktop/dev_env/openMined/PySyft/venv/lib/python3.7/site-packages (from msrest>=0.5.0->azure-cognitiveservices-vision-customvision) (2020.4.5.1)\n",
      "Requirement already satisfied: six in /Users/mshang/Desktop/dev_env/openMined/PySyft/venv/lib/python3.7/site-packages (from isodate>=0.6.0->msrest>=0.5.0->azure-cognitiveservices-vision-customvision) (1.14.0)\n",
      "Requirement already satisfied: idna<2.9,>=2.5 in /Users/mshang/Desktop/dev_env/openMined/PySyft/venv/lib/python3.7/site-packages (from requests~=2.16->msrest>=0.5.0->azure-cognitiveservices-vision-customvision) (2.8)\n",
      "Requirement already satisfied: chardet<3.1.0,>=3.0.2 in /Users/mshang/Desktop/dev_env/openMined/PySyft/venv/lib/python3.7/site-packages (from requests~=2.16->msrest>=0.5.0->azure-cognitiveservices-vision-customvision) (3.0.4)\n",
      "Requirement already satisfied: urllib3!=1.25.0,!=1.25.1,<1.26,>=1.21.1 in /Users/mshang/Desktop/dev_env/openMined/PySyft/venv/lib/python3.7/site-packages (from requests~=2.16->msrest>=0.5.0->azure-cognitiveservices-vision-customvision) (1.25.9)\n",
      "Requirement already satisfied: oauthlib>=3.0.0 in /Users/mshang/Desktop/dev_env/openMined/PySyft/venv/lib/python3.7/site-packages (from requests-oauthlib>=0.5.0->msrest>=0.5.0->azure-cognitiveservices-vision-customvision) (3.1.0)\n",
      "\u001b[33mWARNING: You are using pip version 19.2.3, however version 20.1.1 is available.\n",
      "You should consider upgrading via the 'pip install --upgrade pip' command.\u001b[0m\n"
     ]
    }
   ],
   "source": [
    "!pip install azure-cognitiveservices-vision-customvision"
   ]
  },
  {
   "cell_type": "code",
   "execution_count": 2,
   "metadata": {},
   "outputs": [],
   "source": [
    "from azure.cognitiveservices.vision.customvision.training import CustomVisionTrainingClient\n",
    "from azure.cognitiveservices.vision.customvision.training.models import ImageFileCreateBatch, ImageFileCreateEntry\n",
    "from msrest.authentication import ApiKeyCredentials\n",
    "\n",
    "ENDPOINT = \"\"\n",
    "\n",
    "# Replace with a valid key\n",
    "training_key = \"\"\n",
    "prediction_key = \"\"\n",
    "prediction_resource_id = \"\"\n",
    "base_image_url = \"\"\n"
   ]
  },
  {
   "cell_type": "code",
   "execution_count": 5,
   "metadata": {},
   "outputs": [
    {
     "name": "stdout",
     "output_type": "stream",
     "text": [
      "Creating project...\n"
     ]
    }
   ],
   "source": [
    "publish_iteration_name = \"classifyModel\"\n",
    "\n",
    "credentials = ApiKeyCredentials(in_headers={\"Training-key\": training_key})\n",
    "trainer = CustomVisionTrainingClient(ENDPOINT, credentials)\n",
    "\n",
    "# Create a new project\n",
    "print (\"Creating project...\")\n",
    "project = trainer.create_project(\"My New Project\")"
   ]
  },
  {
   "cell_type": "code",
   "execution_count": 6,
   "metadata": {},
   "outputs": [],
   "source": [
    "cruise = trainer.create_tag(project.id, \"cruise\")\n",
    "other = trainer.create_tag(project.id, \"other\")"
   ]
  },
  {
   "cell_type": "code",
   "execution_count": 11,
   "metadata": {},
   "outputs": [],
   "source": [
    "\n",
    "print(\"Adding images...\")\n",
    "\n",
    "image_list = []\n",
    "\n",
    "\n",
    "import os\n",
    "\n",
    "directory = os.fsencode(base_image_url+\"images/cruize/\")\n",
    "    \n",
    "for file in os.listdir(directory):\n",
    "    file_name = os.fsdecode(file)\n",
    "    print(file_name)\n",
    "    with open(base_image_url + \"images/cruize/\" + file_name, \"rb\") as image_contents:\n",
    "        image_list.append(ImageFileCreateEntry(name=file_name, contents=image_contents.read(), tag_ids=[cruise.id]))\n",
    "    \n",
    "directory = os.fsencode(base_image_url+\"images/other/\")\n",
    "for file in os.listdir(directory):\n",
    "    file_name = os.fsdecode(file)\n",
    "    print(file_name)\n",
    "    with open(base_image_url +\"images/other/\" + file_name, \"rb\") as image_contents:\n",
    "        image_list.append(ImageFileCreateEntry(name=file_name, contents=image_contents.read(), tag_ids=[other.id]))\n",
    "\n",
    "upload_result = trainer.create_images_from_files(project.id, ImageFileCreateBatch(images=image_list))\n",
    "if not upload_result.is_batch_successful:\n",
    "    print(\"Image batch upload failed.\")\n",
    "    for image in upload_result.images:\n",
    "        print(\"Image status: \", image.status)\n",
    "    exit(-1)"
   ]
  },
  {
   "cell_type": "code",
   "execution_count": 8,
   "metadata": {},
   "outputs": [
    {
     "name": "stdout",
     "output_type": "stream",
     "text": [
      "Training...\n",
      "Training status: Training\n",
      "Training status: Training\n",
      "Training status: Training\n",
      "Training status: Training\n",
      "Training status: Training\n",
      "Training status: Training\n",
      "Training status: Training\n",
      "Training status: Training\n",
      "Training status: Training\n",
      "Training status: Training\n",
      "Training status: Training\n",
      "Training status: Training\n",
      "Training status: Training\n",
      "Training status: Training\n",
      "Training status: Training\n",
      "Training status: Training\n",
      "Training status: Training\n",
      "Training status: Training\n",
      "Training status: Training\n",
      "Training status: Training\n",
      "Training status: Training\n",
      "Training status: Training\n",
      "Training status: Completed\n",
      "Done!\n"
     ]
    }
   ],
   "source": [
    "import time\n",
    "\n",
    "print (\"Training...\")\n",
    "iteration = trainer.train_project(project.id)\n",
    "while (iteration.status != \"Completed\"):\n",
    "    iteration = trainer.get_iteration(project.id, iteration.id)\n",
    "    print (\"Training status: \" + iteration.status)\n",
    "    time.sleep(1)\n",
    "\n",
    "# The iteration is now trained. Publish it to the project endpoint\n",
    "trainer.publish_iteration(project.id, iteration.id, publish_iteration_name, prediction_resource_id)\n",
    "print (\"Done!\")"
   ]
  },
  {
   "cell_type": "code",
   "execution_count": 12,
   "metadata": {},
   "outputs": [
    {
     "name": "stdout",
     "output_type": "stream",
     "text": [
      "\tcruise: 100.00%\n",
      "\tother: 0.00%\n"
     ]
    }
   ],
   "source": [
    "from azure.cognitiveservices.vision.customvision.prediction import CustomVisionPredictionClient\n",
    "from msrest.authentication import ApiKeyCredentials\n",
    "\n",
    "# Now there is a trained endpoint that can be used to make a prediction\n",
    "prediction_credentials = ApiKeyCredentials(in_headers={\"Prediction-key\": prediction_key})\n",
    "predictor = CustomVisionPredictionClient(ENDPOINT, prediction_credentials)\n",
    "\n",
    "with open(base_image_url + \"images/Test/test_image.jpg\", \"rb\") as image_contents:\n",
    "    results = predictor.classify_image(\n",
    "        project.id, publish_iteration_name, image_contents.read())\n",
    "\n",
    "    # Display the results.\n",
    "    for prediction in results.predictions:\n",
    "        print(\"\\t\" + prediction.tag_name +\n",
    "              \": {0:.2f}%\".format(prediction.probability * 100))"
   ]
  },
  {
   "cell_type": "code",
   "execution_count": null,
   "metadata": {},
   "outputs": [],
   "source": []
  },
  {
   "cell_type": "code",
   "execution_count": null,
   "metadata": {},
   "outputs": [],
   "source": []
  },
  {
   "cell_type": "code",
   "execution_count": null,
   "metadata": {},
   "outputs": [],
   "source": []
  }
 ],
 "metadata": {
  "kernelspec": {
   "display_name": "Python 3.7.6 64-bit ('venv': venv)",
   "language": "python",
   "name": "python37664bitvenvvenvd1e37fff5f274e098c1f20b5926692c5"
  },
  "language_info": {
   "codemirror_mode": {
    "name": "ipython",
    "version": 3
   },
   "file_extension": ".py",
   "mimetype": "text/x-python",
   "name": "python",
   "nbconvert_exporter": "python",
   "pygments_lexer": "ipython3",
   "version": "3.7.6"
  }
 },
 "nbformat": 4,
 "nbformat_minor": 2
}
